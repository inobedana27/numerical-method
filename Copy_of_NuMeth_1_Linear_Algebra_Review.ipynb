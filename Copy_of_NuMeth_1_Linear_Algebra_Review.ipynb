{
  "nbformat": 4,
  "nbformat_minor": 0,
  "metadata": {
    "colab": {
      "name": "Copy of NuMeth 1 - Linear Algebra Review",
      "provenance": [],
      "collapsed_sections": [],
      "include_colab_link": true
    },
    "kernelspec": {
      "name": "python3",
      "display_name": "Python 3"
    }
  },
  "cells": [
    {
      "cell_type": "markdown",
      "metadata": {
        "id": "view-in-github",
        "colab_type": "text"
      },
      "source": [
        "<a href=\"https://colab.research.google.com/github/inobedana27/numerical-method/blob/main/Copy_of_NuMeth_1_Linear_Algebra_Review.ipynb\" target=\"_parent\"><img src=\"https://colab.research.google.com/assets/colab-badge.svg\" alt=\"Open In Colab\"/></a>"
      ]
    },
    {
      "cell_type": "markdown",
      "metadata": {
        "id": "CPi23qJFCw2L"
      },
      "source": [
        "# Linear Algebra\r\n",
        "\r\n",
        "Linear Algebra is one of the fundamental mathematics for Artificial Intelligence Development and also Computer Vision. We will see the applications of Linear Algebra in advanced mathematical techniques such as optimization, vectorized programming, and matrix manipulations. Today we will try to understand the basics of Linear Algebra using Python."
      ]
    },
    {
      "cell_type": "markdown",
      "metadata": {
        "id": "S8W_ZhhsbmSa"
      },
      "source": [
        "# Last name, First name : Bedana,Marcelino III A\r\n",
        " \r\n",
        "\r\n"
      ]
    },
    {
      "cell_type": "markdown",
      "metadata": {
        "id": "zfQWDrsEDzfi"
      },
      "source": [
        "## 1. Vectors\r\n",
        "NumPy or Numerical Python is a package or library that allows programmers to code and model computations and see them in action. You can check the [NumPy documentation](https://numpy.org/doc/stable/reference/index.html) on how to use their APIs.\r\n",
        "\r\n"
      ]
    },
    {
      "cell_type": "code",
      "metadata": {
        "id": "NyKiAJagCr23",
        "colab": {
          "base_uri": "https://localhost:8080/"
        },
        "outputId": "d0e29d44-e7f1-4af5-fb7c-dc559101e449"
      },
      "source": [
        "## You can install NumPy in your local machine by doing the following line without the \"!\"\r\n",
        "#!pip install numpy\r\n",
        "## But in Google Colab NumPy is already installed in your session.\r\n",
        "import numpy as np\r\n",
        "print(f'NumPy library version: {np.__version__}')"
      ],
      "execution_count": null,
      "outputs": [
        {
          "output_type": "stream",
          "text": [
            "NumPy library version: 1.19.5\n"
          ],
          "name": "stdout"
        }
      ]
    },
    {
      "cell_type": "markdown",
      "metadata": {
        "id": "wr7iZs8-ECIh"
      },
      "source": [
        "### Defining Vectors, Matrices, and Tensors\r\n",
        "Vectors, Matrices, and Tensors are the fundamental objects in Linear Algebra programming. We'll be defining each of these objects specifically in the Computer Science/Engineering perspective since it would be much confusing if we consider their Physics and Pure Mathematics definitions."
      ]
    },
    {
      "cell_type": "markdown",
      "metadata": {
        "id": "hXyQT1GoEICC"
      },
      "source": [
        "#### <i>Scalars</i>\r\n",
        "Scalars are numerical entities that are represented by a single value. "
      ]
    },
    {
      "cell_type": "code",
      "metadata": {
        "id": "euMYAk53D96k",
        "colab": {
          "base_uri": "https://localhost:8080/"
        },
        "outputId": "30dacaaf-3a03-45a9-941f-5db97724867c"
      },
      "source": [
        "# creating an scalar using numpy array\r\n",
        "x = np.array(5)\r\n",
        "x"
      ],
      "execution_count": null,
      "outputs": [
        {
          "output_type": "execute_result",
          "data": {
            "text/plain": [
              "array(5)"
            ]
          },
          "metadata": {
            "tags": []
          },
          "execution_count": 4
        }
      ]
    },
    {
      "cell_type": "markdown",
      "metadata": {
        "id": "FJWsNnsnEKPR"
      },
      "source": [
        "#### *Vectors*\r\n",
        "Vectors are array of numerical values or scalars that would represent any feature space. Feature spaces or simply dimensions or the parameters of an equation or a function."
      ]
    },
    {
      "cell_type": "code",
      "metadata": {
        "id": "Y6kqO2sLEOY7",
        "colab": {
          "base_uri": "https://localhost:8080/"
        },
        "outputId": "e03907c9-3a70-415c-f007-72022ea5ccdf"
      },
      "source": [
        "# vectors are collection of scalars\r\n",
        "\r\n",
        "v1 = np.array([1,4,6])\r\n",
        "v1"
      ],
      "execution_count": null,
      "outputs": [
        {
          "output_type": "execute_result",
          "data": {
            "text/plain": [
              "array([1, 4, 6])"
            ]
          },
          "metadata": {
            "tags": []
          },
          "execution_count": 5
        }
      ]
    },
    {
      "cell_type": "markdown",
      "metadata": {
        "id": "UpTSGTl0EOqx"
      },
      "source": [
        "#### *Matrices*\r\n",
        "Matrices are array of vectors or a multi-dimensional array for features for an equation or function."
      ]
    },
    {
      "cell_type": "code",
      "metadata": {
        "id": "9RyugRXrEQab",
        "colab": {
          "base_uri": "https://localhost:8080/"
        },
        "outputId": "3c9cfbb3-7614-47ed-b992-97235b581de7"
      },
      "source": [
        "# matrix are just collection of vectors\r\n",
        "a = np.array([\r\n",
        "              [1,2,4],[3,4,5]\r\n",
        "\r\n",
        "])\r\n",
        "\r\n",
        "a"
      ],
      "execution_count": null,
      "outputs": [
        {
          "output_type": "execute_result",
          "data": {
            "text/plain": [
              "array([[1, 2, 4],\n",
              "       [3, 4, 5]])"
            ]
          },
          "metadata": {
            "tags": []
          },
          "execution_count": 6
        }
      ]
    },
    {
      "cell_type": "markdown",
      "metadata": {
        "id": "7aHsGCpoEQ_h"
      },
      "source": [
        "#### *Tensors*\r\n",
        "Tensors are an array of matrices. Tensors have dimensions, tensors can have alternate names depending on what dimension they are in. 1D tensors can be considered as vectors, 2D tensors can be considered are matrices, and 3D onwards are called high dimensional tensors."
      ]
    },
    {
      "cell_type": "code",
      "metadata": {
        "id": "0LsB8OX7EWiJ",
        "colab": {
          "base_uri": "https://localhost:8080/"
        },
        "outputId": "3927ec7a-7a48-4772-e451-14ef008ac980"
      },
      "source": [
        "# tensor are collectors of matrix\r\n",
        "\r\n",
        "T = np.array([\r\n",
        "              [[1,2,3],[4,5,6]]\r\n",
        "])\r\n",
        "\r\n",
        "T"
      ],
      "execution_count": null,
      "outputs": [
        {
          "output_type": "execute_result",
          "data": {
            "text/plain": [
              "array([[[1, 2, 3],\n",
              "        [4, 5, 6]]])"
            ]
          },
          "metadata": {
            "tags": []
          },
          "execution_count": 7
        }
      ]
    },
    {
      "cell_type": "markdown",
      "metadata": {
        "id": "bpwgaV-mESxA"
      },
      "source": [
        "Here's a visual representation of the data types that we are going to use. <br>\r\n",
        "<img src=\"https://static.javatpoint.com/tutorial/pytorch/images/pytorch-tensors.png\">\r\n",
        "\r\n"
      ]
    },
    {
      "cell_type": "markdown",
      "metadata": {
        "id": "DuSXe7etEZPQ"
      },
      "source": [
        "### Describing Tensors\r\n",
        "\r\n",
        "Describing tensors is very important if we want to perform basic to advanced operations with them. The fundamental ways in describing tensors are knowing their shape, size, and dimensions.\r\n"
      ]
    },
    {
      "cell_type": "markdown",
      "metadata": {
        "id": "SwgpdKt9Em2J"
      },
      "source": [
        "#### *Shapes*\r\n",
        "The shape of a tensor tells us how many rows and columns are there in an axis.\r\n"
      ]
    },
    {
      "cell_type": "code",
      "metadata": {
        "id": "1_zIw1OsEluE",
        "colab": {
          "base_uri": "https://localhost:8080/"
        },
        "outputId": "cf1daff8-a021-49aa-a574-2f703d223248"
      },
      "source": [
        "# the shape also tell us how many dimension in an tensors\r\n",
        "T.shape"
      ],
      "execution_count": null,
      "outputs": [
        {
          "output_type": "execute_result",
          "data": {
            "text/plain": [
              "(1, 2, 3)"
            ]
          },
          "metadata": {
            "tags": []
          },
          "execution_count": 12
        }
      ]
    },
    {
      "cell_type": "markdown",
      "metadata": {
        "id": "8ApYwUyQEpmx"
      },
      "source": [
        "#### <i>Dimensions</i>\r\n",
        "In NumPy the dimension of a tensor is also called axes."
      ]
    },
    {
      "cell_type": "code",
      "metadata": {
        "id": "LCfMGIsrErwR",
        "colab": {
          "base_uri": "https://localhost:8080/"
        },
        "outputId": "10777415-20e7-4d60-f3e0-5db9e82af6fd"
      },
      "source": [
        "# know what is dimension \r\n",
        "T.ndim"
      ],
      "execution_count": null,
      "outputs": [
        {
          "output_type": "execute_result",
          "data": {
            "text/plain": [
              "3"
            ]
          },
          "metadata": {
            "tags": []
          },
          "execution_count": 16
        }
      ]
    },
    {
      "cell_type": "markdown",
      "metadata": {
        "id": "DbzQSFQ1EsPB"
      },
      "source": [
        "#### *Sizes*\r\n",
        "The size of a tensor/ vector/ matrix is simply the total number of elements in it."
      ]
    },
    {
      "cell_type": "code",
      "metadata": {
        "id": "H6HtwIRBEvUB",
        "colab": {
          "base_uri": "https://localhost:8080/"
        },
        "outputId": "611b5f9c-1681-476b-c103-3d29beb8e0c3"
      },
      "source": [
        "# accessing how many elements inside of it\r\n",
        "v1.size"
      ],
      "execution_count": null,
      "outputs": [
        {
          "output_type": "execute_result",
          "data": {
            "text/plain": [
              "3"
            ]
          },
          "metadata": {
            "tags": []
          },
          "execution_count": 17
        }
      ]
    },
    {
      "cell_type": "markdown",
      "metadata": {
        "id": "bfLvsCCdEvzR"
      },
      "source": [
        "## Types of Matrices\r\n",
        "The notation and use of matrices are probably one of the fundamentals of modern computing. Matrices are also handy representations of complex equations or multiple inter-related equations from 2-dimensional equations to even hundreds and thousands of them.\r\n",
        "\r\n",
        "Let's say for example you have $A$ and $B$ as the system of equations.\r\n",
        "\r\n",
        "$$\r\n",
        "A = \\left\\{\r\n",
        "    \\begin{array}\\\\\r\n",
        "        x + y \\\\ \r\n",
        "        4x - 10y\r\n",
        "    \\end{array}\r\n",
        "\\right. \\\\\r\n",
        "B = \\left\\{\r\n",
        "    \\begin{array}\\\\\r\n",
        "        x+y+z \\\\ \r\n",
        "        3x -2y -z \\\\\r\n",
        "        -x + 4y +2z\r\n",
        "    \\end{array}\r\n",
        "\\right. $$\r\n",
        "\r\n",
        "We could see that $A$ is a system of 2 equations with 2 parameters. While $B$ is a system of 3 equations with 3 parameters. We can represent them as matrices as:\r\n",
        "\r\n",
        "$$\r\n",
        "A=\\begin{bmatrix} 1 & 1 \\\\ 4 & {-10}\\end{bmatrix} \\\\\r\n",
        "B=\\begin{bmatrix} 1 & 1 & 1 \\\\ 3 & -2 & -1 \\\\ -1 & 4 & 2\\end{bmatrix}\r\n",
        "$$\r\n",
        "\r\n",
        "We'll represent the system of linear equations as a matrix. The entities or numbers in matrices are called the elements of a matrix. These elements are arranged and ordered in rows and columns which form the list/array-like structure of matrices. And just like arrays, these elements are indexed according to their position with respect to their rows and columns. This can be represented just like the equation below. Whereas $A$ is a matrix consisting of elements denoted by $a_{i,j}$. Denoted by $i$ is the number of rows in the matrix while $j$ stands for the number of columns.<br>\r\n",
        "Do note that the $size$ of a matrix is $i\\times j$.\r\n",
        "$$A=\\begin{bmatrix}\r\n",
        "a_{(0,0)}&a_{(0,1)}&\\dots&a_{(0,j-1)}\\\\\r\n",
        "a_{(1,0)}&a_{(1,1)}&\\dots&a_{(1,j-1)}\\\\\r\n",
        "\\vdots&\\vdots&\\ddots&\\vdots&\\\\\r\n",
        "a_{(i-1,0)}&a_{(i-1,1)}&\\dots&a_{(i-1,j-1)}\r\n",
        "\\end{bmatrix}\r\n",
        "$$\r\n",
        "We already gone over some of the types of matrices as vectors but we'll further discuss them in this laboratory activity. Since you already know how to describe vectors using shape, dimensions and size attributes, we'll use them to analyze these matrices."
      ]
    },
    {
      "cell_type": "code",
      "metadata": {
        "id": "uICoQit6E06p"
      },
      "source": [
        "def describe_mat(matrix):\r\n",
        "    print(f'Matrix:\\n{matrix}\\n\\nShape:\\t{matrix.shape}\\nRank:\\t{matrix.ndim}\\n')"
      ],
      "execution_count": null,
      "outputs": []
    },
    {
      "cell_type": "code",
      "metadata": {
        "id": "CbF8cedvE7Hr",
        "colab": {
          "base_uri": "https://localhost:8080/"
        },
        "outputId": "24d7ee6b-9c0f-4cb8-c0a8-5ea877f7a908"
      },
      "source": [
        ""
      ],
      "execution_count": null,
      "outputs": [
        {
          "output_type": "stream",
          "text": [
            "Matrix:\n",
            "[[1 2 3]]\n",
            "\n",
            "Shape:\t(1, 3)\n",
            "Rank:\t2\n",
            "\n"
          ],
          "name": "stdout"
        }
      ]
    },
    {
      "cell_type": "markdown",
      "metadata": {
        "id": "Ig-gl-rSE-uq"
      },
      "source": [
        "### Matrices according to shape"
      ]
    },
    {
      "cell_type": "markdown",
      "metadata": {
        "id": "VHRtsc3fFBWw"
      },
      "source": [
        "#### *Row and Column Matrices*\r\n",
        "\r\n",
        "Row and column matrices are common in vector and matrix computations. They can also represent row and column spaces of a bigger vector space. Row and column matrices are represented by a single column or single row. So with that being, the shape of row matrices would be $1 \\times j$ and column matrices would be $i \\times 1$."
      ]
    },
    {
      "cell_type": "code",
      "metadata": {
        "id": "Ddc899xwFA7b"
      },
      "source": [
        "## Declaring a Row Matrix\r\n",
        "\r\n"
      ],
      "execution_count": null,
      "outputs": []
    },
    {
      "cell_type": "code",
      "metadata": {
        "colab": {
          "base_uri": "https://localhost:8080/"
        },
        "id": "SSj3K3QogLni",
        "outputId": "24d7ee6b-9c0f-4cb8-c0a8-5ea877f7a908"
      },
      "source": [
        "r = np.array([[1,2,3]])\r\n",
        "describe_mat(r)"
      ],
      "execution_count": null,
      "outputs": [
        {
          "output_type": "stream",
          "text": [
            "Matrix:\n",
            "[[1 2 3]]\n",
            "\n",
            "Shape:\t(1, 3)\n",
            "Rank:\t2\n",
            "\n"
          ],
          "name": "stdout"
        }
      ]
    },
    {
      "cell_type": "code",
      "metadata": {
        "id": "Y_7qozkmFHIj",
        "colab": {
          "base_uri": "https://localhost:8080/"
        },
        "outputId": "704fd272-f862-4c8b-f60c-dfba29f77bd2"
      },
      "source": [
        "## Declaring a Column Matrix\r\n",
        "col = np.array([\r\n",
        "                [1],[2],[3]\r\n",
        "])\r\n",
        "describe_mat(col)"
      ],
      "execution_count": null,
      "outputs": [
        {
          "output_type": "stream",
          "text": [
            "Matrix:\n",
            "[[1]\n",
            " [2]\n",
            " [3]]\n",
            "\n",
            "Shape:\t(3, 1)\n",
            "Rank:\t2\n",
            "\n"
          ],
          "name": "stdout"
        }
      ]
    },
    {
      "cell_type": "markdown",
      "metadata": {
        "id": "B9v0LYERFK1a"
      },
      "source": [
        "#### <i>Square Matrices</i>\r\n",
        "Square matrices are matrices that have the same row and column sizes. We could say a matrix is square if $i = j$. We can tweak our matrix descriptor function to determine square matrices."
      ]
    },
    {
      "cell_type": "code",
      "metadata": {
        "id": "TjUWmKseFIkL",
        "colab": {
          "base_uri": "https://localhost:8080/"
        },
        "outputId": "e497ad5e-071e-4a3c-88b0-f895dc564053"
      },
      "source": [
        "sq = np.array([\r\n",
        "               [1,4],\r\n",
        "               [2,6]\r\n",
        "])\r\n",
        "describe_mat(sq)"
      ],
      "execution_count": null,
      "outputs": [
        {
          "output_type": "stream",
          "text": [
            "Matrix:\n",
            "[[1 4]\n",
            " [2 6]]\n",
            "\n",
            "Shape:\t(2, 2)\n",
            "Rank:\t2\n",
            "\n"
          ],
          "name": "stdout"
        }
      ]
    },
    {
      "cell_type": "markdown",
      "metadata": {
        "id": "QLWp8IaxFQHJ"
      },
      "source": [
        "### Matrices according to element values"
      ]
    },
    {
      "cell_type": "markdown",
      "metadata": {
        "id": "YXYw9-pxFS8Z"
      },
      "source": [
        "#### <i>Empty Matrix</i>\r\n",
        "\r\n",
        "An empty Matrix is a matrix that has no elements. It is always a subspace of any vector or matrix.\r\n"
      ]
    },
    {
      "cell_type": "code",
      "metadata": {
        "id": "xlO-lmVBFRNA",
        "colab": {
          "base_uri": "https://localhost:8080/"
        },
        "outputId": "eb5d6608-ddc3-4569-cb46-8b852ca58344"
      },
      "source": [
        "\r\n",
        "nul = np.array([])\r\n",
        "nul\r\n",
        "\r\n",
        "# or using empty\r\n",
        "empty = np.empty((2,2))\r\n",
        "empty"
      ],
      "execution_count": null,
      "outputs": [
        {
          "output_type": "execute_result",
          "data": {
            "text/plain": [
              "array([[1., 1.],\n",
              "       [1., 0.]])"
            ]
          },
          "metadata": {
            "tags": []
          },
          "execution_count": 24
        }
      ]
    },
    {
      "cell_type": "markdown",
      "metadata": {
        "id": "ofntAyNKFVkA"
      },
      "source": [
        "#### <i>Zero/Null Matrix</i>\r\n",
        "A zero matrix can be any rectangular matrix but with all elements having a value of 0. In most texts, the zero matrix is denoted as $\\emptyset$.<br>\r\n",
        "Check out: [`numpy.zeros`](https://numpy.org/doc/stable/reference/generated/numpy.zeros.html)"
      ]
    },
    {
      "cell_type": "code",
      "metadata": {
        "id": "bN4orlEzFV34",
        "colab": {
          "base_uri": "https://localhost:8080/"
        },
        "outputId": "d856042a-78aa-491b-8848-3544ef11b589"
      },
      "source": [
        "zed = np.zeros((3,3))\r\n",
        "zed"
      ],
      "execution_count": null,
      "outputs": [
        {
          "output_type": "execute_result",
          "data": {
            "text/plain": [
              "array([[0., 0., 0.],\n",
              "       [0., 0., 0.],\n",
              "       [0., 0., 0.]])"
            ]
          },
          "metadata": {
            "tags": []
          },
          "execution_count": 25
        }
      ]
    },
    {
      "cell_type": "markdown",
      "metadata": {
        "id": "CHwAtgfaFWWY"
      },
      "source": [
        "#### <i>Ones Matrix</i>\r\n",
        "A ones matrix, just like zero matrices, can be any rectangular matrix but all of its elements are 1s instead of 0s.\r\n",
        "\r\n",
        "Check out: [`numpy.ones`](https://numpy.org/doc/stable/reference/generated/numpy.ones.html)"
      ]
    },
    {
      "cell_type": "code",
      "metadata": {
        "id": "wZayvxxRFYHI",
        "colab": {
          "base_uri": "https://localhost:8080/"
        },
        "outputId": "32b52d8f-4892-446b-afd1-78b32e2b72f9"
      },
      "source": [
        "ones = np.ones((3,3))\r\n",
        "ones"
      ],
      "execution_count": null,
      "outputs": [
        {
          "output_type": "execute_result",
          "data": {
            "text/plain": [
              "array([[1., 1., 1.],\n",
              "       [1., 1., 1.],\n",
              "       [1., 1., 1.]])"
            ]
          },
          "metadata": {
            "tags": []
          },
          "execution_count": 26
        }
      ]
    },
    {
      "cell_type": "markdown",
      "metadata": {
        "id": "_Y2fAx-rFYgg"
      },
      "source": [
        "#### <i>Diagonal Matrix</i>\r\n",
        "\r\n",
        "Check out: [`numpy.diag`](https://numpy.org/doc/stable/reference/generated/numpy.diag.html)"
      ]
    },
    {
      "cell_type": "code",
      "metadata": {
        "id": "qbl75HLUFaCQ",
        "colab": {
          "base_uri": "https://localhost:8080/"
        },
        "outputId": "9ebd35c7-8cf2-4f9c-8fa0-66f4e353085c"
      },
      "source": [
        "diag = np.array([\r\n",
        "                 [2,9,4],\r\n",
        "                 [2,4,5],\r\n",
        "                 [3,4,5]\r\n",
        "\r\n",
        "])\r\n",
        "diag"
      ],
      "execution_count": null,
      "outputs": [
        {
          "output_type": "execute_result",
          "data": {
            "text/plain": [
              "array([[2, 9, 4],\n",
              "       [2, 4, 5],\n",
              "       [3, 4, 5]])"
            ]
          },
          "metadata": {
            "tags": []
          },
          "execution_count": 27
        }
      ]
    },
    {
      "cell_type": "markdown",
      "metadata": {
        "id": "pLxVWf2tFaaT"
      },
      "source": [
        "#### <i>Identity Matrix</i>\r\n",
        "An identity matrix is a special diagonal matrix in which the values at the diagonal are ones. In most texts, the identity matrix is denoted as $I$.<br>\r\n",
        "Check out: \r\n",
        "* [`numpy.eye`](https://numpy.org/doc/stable/reference/generated/numpy.eye.html)\r\n",
        "* [`numpy.identity`](https://numpy.org/doc/stable/reference/generated/numpy.identity.html)"
      ]
    },
    {
      "cell_type": "code",
      "metadata": {
        "id": "snCHNo94FcuQ",
        "colab": {
          "base_uri": "https://localhost:8080/"
        },
        "outputId": "384a4c35-10c0-4d25-83a0-ff16949ffb79"
      },
      "source": [
        "I = np.diag((3,4,2))\r\n",
        "I"
      ],
      "execution_count": null,
      "outputs": [
        {
          "output_type": "execute_result",
          "data": {
            "text/plain": [
              "array([[3, 0, 0],\n",
              "       [0, 4, 0],\n",
              "       [0, 0, 2]])"
            ]
          },
          "metadata": {
            "tags": []
          },
          "execution_count": 28
        }
      ]
    },
    {
      "cell_type": "markdown",
      "metadata": {
        "id": "4sp2nmx1FdBg"
      },
      "source": [
        "#### <i>Scalar Matrix</i>\r\n",
        "Since scalars cannot be explicitly operated with matrices, one workaround is to convert scalars into matrices. This is done by a matrix with all diagonal values equal to the original scalar."
      ]
    },
    {
      "cell_type": "code",
      "metadata": {
        "id": "y5kOPm9uFel4",
        "colab": {
          "base_uri": "https://localhost:8080/"
        },
        "outputId": "6f5ff422-7c87-47ed-dbd9-3e927cbcf503"
      },
      "source": [
        "scal = np.diag([3,3,3])\r\n",
        "scal"
      ],
      "execution_count": null,
      "outputs": [
        {
          "output_type": "execute_result",
          "data": {
            "text/plain": [
              "array([[3, 0, 0],\n",
              "       [0, 3, 0],\n",
              "       [0, 0, 3]])"
            ]
          },
          "metadata": {
            "tags": []
          },
          "execution_count": 29
        }
      ]
    },
    {
      "cell_type": "markdown",
      "metadata": {
        "id": "LRidQS1PFfSB"
      },
      "source": [
        "#### <i>Upper Triangular Matrix</i>\r\n",
        "An upper triangular matrix is a matrix that has no values below the diagonal."
      ]
    },
    {
      "cell_type": "code",
      "metadata": {
        "id": "Hznqw8iIFhPo",
        "colab": {
          "base_uri": "https://localhost:8080/"
        },
        "outputId": "342e3b99-a909-415f-8e2b-bd0a56d730d9"
      },
      "source": [
        "upper = np.array([\r\n",
        "                  [1,2,3],\r\n",
        "                  [0,0,4],\r\n",
        "                  [0,0,5]\r\n",
        "\r\n",
        "\r\n",
        "])\r\n",
        "upper"
      ],
      "execution_count": null,
      "outputs": [
        {
          "output_type": "execute_result",
          "data": {
            "text/plain": [
              "array([[1, 2, 3],\n",
              "       [0, 0, 4],\n",
              "       [0, 0, 5]])"
            ]
          },
          "metadata": {
            "tags": []
          },
          "execution_count": 30
        }
      ]
    },
    {
      "cell_type": "markdown",
      "metadata": {
        "id": "fIt_zh7vFhuy"
      },
      "source": [
        "#### <i>Lower Triangular Matrix</i>\r\n",
        "\r\n",
        "\r\n",
        "A lower triangular matrix is a matrix that has no values above the diagonal."
      ]
    },
    {
      "cell_type": "code",
      "metadata": {
        "id": "L8AHzCphFjTh",
        "colab": {
          "base_uri": "https://localhost:8080/"
        },
        "outputId": "adad63fe-f124-422e-aff8-8d7f733a5a34"
      },
      "source": [
        "l_t = np.array([\r\n",
        "                [1,0,0],\r\n",
        "                [1,1,0],\r\n",
        "                [1,1,1]\r\n",
        "])\r\n",
        "l_t"
      ],
      "execution_count": null,
      "outputs": [
        {
          "output_type": "execute_result",
          "data": {
            "text/plain": [
              "array([[1, 0, 0],\n",
              "       [1, 1, 0],\n",
              "       [1, 1, 1]])"
            ]
          },
          "metadata": {
            "tags": []
          },
          "execution_count": 31
        }
      ]
    },
    {
      "cell_type": "markdown",
      "metadata": {
        "id": "YrHljLnqFkGp"
      },
      "source": [
        "# Matrix / Tensor Algebra\r\n",
        "Moving forward with matrices, vectors, and tensors. We'll try to see them in action using the commonly used operations for tensors. We will now dwell on the concepts and applications of Tensor Algebra"
      ]
    },
    {
      "cell_type": "markdown",
      "metadata": {
        "id": "DHOcEAhmFnqx"
      },
      "source": [
        "## Arithmetic / Element-wise Operations\r\n",
        "Check out: \r\n",
        "* [`numpy.add`](https://numpy.org/doc/stable/reference/generated/numpy.add.html)\r\n",
        "* [`numpy.sum`](https://numpy.org/doc/stable/reference/generated/numpy.sum.html)\r\n",
        "* [`numpy.subtract`](https://numpy.org/doc/stable/reference/generated/numpy.subtract.html)\r\n",
        "* [`numpy.multiply`](https://numpy.org/doc/stable/reference/generated/numpy.multiply.html)\r\n",
        "* [`numpy.square`](https://numpy.org/doc/stable/reference/generated/numpy.square.html)\r\n",
        "* [`numpy.divide`](https://numpy.org/doc/stable/reference/generated/numpy.divide.html)"
      ]
    },
    {
      "cell_type": "code",
      "metadata": {
        "id": "2uWM0oFZFmTJ",
        "colab": {
          "base_uri": "https://localhost:8080/"
        },
        "outputId": "fc99a532-2960-4677-f26d-282b47f11fc5"
      },
      "source": [
        "## Addition\r\n",
        "A = np.array([\r\n",
        "              [1,2],\r\n",
        "              [0,-4]\r\n",
        "])\r\n",
        "\r\n",
        "B = np.array([\r\n",
        "              [3,4],\r\n",
        "              [5,6]\r\n",
        "\r\n",
        "])\r\n",
        "np.add(A,B)"
      ],
      "execution_count": null,
      "outputs": [
        {
          "output_type": "execute_result",
          "data": {
            "text/plain": [
              "array([[4, 6],\n",
              "       [5, 2]])"
            ]
          },
          "metadata": {
            "tags": []
          },
          "execution_count": 32
        }
      ]
    },
    {
      "cell_type": "code",
      "metadata": {
        "id": "BRgjTiETFqzK",
        "colab": {
          "base_uri": "https://localhost:8080/"
        },
        "outputId": "e26f681f-bb95-4208-db18-7c6ac1f5166a"
      },
      "source": [
        "## Subtraction\r\n",
        "np.subtract(A,B)"
      ],
      "execution_count": null,
      "outputs": [
        {
          "output_type": "execute_result",
          "data": {
            "text/plain": [
              "array([[ -2,  -2],\n",
              "       [ -5, -10]])"
            ]
          },
          "metadata": {
            "tags": []
          },
          "execution_count": 33
        }
      ]
    },
    {
      "cell_type": "code",
      "metadata": {
        "id": "gaq2uDF1Fr1x",
        "colab": {
          "base_uri": "https://localhost:8080/"
        },
        "outputId": "d59f94f2-9bd1-409a-f9e0-de3f454aa056"
      },
      "source": [
        "## Multiplication\r\n",
        "np.multiply(A,B)"
      ],
      "execution_count": null,
      "outputs": [
        {
          "output_type": "execute_result",
          "data": {
            "text/plain": [
              "array([[  3,   8],\n",
              "       [  0, -24]])"
            ]
          },
          "metadata": {
            "tags": []
          },
          "execution_count": 34
        }
      ]
    },
    {
      "cell_type": "code",
      "metadata": {
        "id": "nmZ5be7lFup5",
        "colab": {
          "base_uri": "https://localhost:8080/"
        },
        "outputId": "b12cfe91-b072-4391-fe1e-be78e5d3e9c5"
      },
      "source": [
        "## Division\r\n",
        "np.divide(A,B)"
      ],
      "execution_count": null,
      "outputs": [
        {
          "output_type": "execute_result",
          "data": {
            "text/plain": [
              "array([[ 0.33333333,  0.5       ],\n",
              "       [ 0.        , -0.66666667]])"
            ]
          },
          "metadata": {
            "tags": []
          },
          "execution_count": 35
        }
      ]
    },
    {
      "cell_type": "markdown",
      "metadata": {
        "id": "teroH5PJF1Fw"
      },
      "source": [
        "## Transpose of a Matrix\r\n",
        "One of the fundamental operations in matrix algebra is Transposition. The transpose of a matrix is done by flipping the values of its elements over its diagonals. With this, the rows and columns from the original matrix will be switched. So for a matrix $A$ its transpose is denoted as $A^T$. So for example:\r\n",
        "\r\n",
        "$$A = \\begin{bmatrix} 1 & 2 & 5\\\\5 & -1 &0 \\\\ 0 & -3 & 3\\end{bmatrix} $$\r\n",
        "$$ A^T = \\begin{bmatrix} 1 & 5 & 0\\\\2 & -1 &-3 \\\\ 5 & 0 & 3\\end{bmatrix}$$\r\n",
        "This can now be achieved programmatically by using `np.transpose()` or using the `T` method.<br>\r\n",
        "Check out:\r\n",
        "* [`np.transpose`](https://numpy.org/doc/stable/reference/generated/numpy.transpose.html)\r\n"
      ]
    },
    {
      "cell_type": "code",
      "metadata": {
        "id": "GbI3wbxTF3pJ",
        "colab": {
          "base_uri": "https://localhost:8080/"
        },
        "outputId": "dbed5c3b-2217-4904-dbfe-fc2dadf566d8"
      },
      "source": [
        "A = np.array([\r\n",
        "              [1,2,5],\r\n",
        "              [5,-1,0],\r\n",
        "              [0,-3,3]\r\n",
        "])\r\n",
        "print(A.T)"
      ],
      "execution_count": null,
      "outputs": [
        {
          "output_type": "stream",
          "text": [
            "[[ 1  5  0]\n",
            " [ 2 -1 -3]\n",
            " [ 5  0  3]]\n"
          ],
          "name": "stdout"
        }
      ]
    },
    {
      "cell_type": "markdown",
      "metadata": {
        "id": "66BnVMxeF5rB"
      },
      "source": [
        "## Vector Product\r\n",
        "The inner product of a vector is the sum of the products of each element of the vectors. So given vectors $H$ and $G$ below:\r\n",
        "$$H=\\begin{bmatrix}1\\\\3\\\\6\\end{bmatrix}, G = \\begin{bmatrix}5\\\\2\\\\1\\end{bmatrix}$$\r\n",
        "We first take the element-wise product of the vectors:\r\n",
        "$$H*G = \\begin{bmatrix}5\\\\6\\\\6\\end{bmatrix}$$\r\n",
        "Then we take the sum of the products, making it the inner product of a vector:\r\n",
        "$$H\\cdot G = 17$$\r\n",
        "You can solve for the inner product using an explicit function, `np.inner()` or the `@` operator.<br>\r\n",
        "Check out:\r\n",
        "* [`np.inner`](https://numpy.org/doc/stable/reference/generated/numpy.inner.html)"
      ]
    },
    {
      "cell_type": "code",
      "metadata": {
        "id": "-m73UfOQF764",
        "colab": {
          "base_uri": "https://localhost:8080/"
        },
        "outputId": "3d2314a6-70bc-4f79-e88b-3c2280b87d16"
      },
      "source": [
        "H = np.array([1,3,6])\r\n",
        "G = np.array([5,2,1])\r\n",
        "H@G"
      ],
      "execution_count": null,
      "outputs": [
        {
          "output_type": "execute_result",
          "data": {
            "text/plain": [
              "17"
            ]
          },
          "metadata": {
            "tags": []
          },
          "execution_count": 40
        }
      ]
    },
    {
      "cell_type": "markdown",
      "metadata": {
        "id": "1yvij6t2F90h"
      },
      "source": [
        "In matrix dot products, we are going to get the sum of products of the vectors by row-column pairs. So if we have two matrices $X$ and $Y$:\r\n",
        "\r\n",
        "$$X = \\begin{bmatrix}x_{(0,0)}&x_{(0,1)}\\\\ x_{(1,0)}&x_{(1,1)}\\end{bmatrix}, Y = \\begin{bmatrix}y_{(0,0)}&y_{(0,1)}\\\\ y_{(1,0)}&y_{(1,1)}\\end{bmatrix}$$\r\n",
        "\r\n",
        "The dot product will then be computed as:\r\n",
        "$$X \\cdot Y= \\begin{bmatrix} x_{(0,0)}*y_{(0,0)} + x_{(0,1)}*y_{(1,0)} & x_{(0,0)}*y_{(0,1)} + x_{(0,1)}*y_{(1,1)} \\\\  x_{(1,0)}*y_{(0,0)} + x_{(1,1)}*y_{(1,0)} & x_{(1,0)}*y_{(0,1)} + x_{(1,1)}*y_{(1,1)}\r\n",
        "\\end{bmatrix}$$\r\n",
        "\r\n",
        "So if we assign values to $X$ and $Y$:\r\n",
        "$$X = \\begin{bmatrix}1&2\\\\0&1\\end{bmatrix}, Y = \\begin{bmatrix}-1&0\\\\ 2&2\\end{bmatrix}$$\r\n",
        "Check out:\r\n",
        "* [`np.dot`](https://numpy.org/doc/stable/reference/generated/numpy.inner.html)"
      ]
    },
    {
      "cell_type": "code",
      "metadata": {
        "id": "HdKvvQ4IF-Ep",
        "colab": {
          "base_uri": "https://localhost:8080/"
        },
        "outputId": "3ab1c7ee-4022-403f-c426-f5103bdf82c7"
      },
      "source": [
        "X = np.array([\r\n",
        "              [1,2],\r\n",
        "              [0,1]\r\n",
        "])\r\n",
        "\r\n",
        "Y = np.array([\r\n",
        "              [-1,0],\r\n",
        "              [2,2]\r\n",
        "])\r\n",
        "np.dot(X,Y)"
      ],
      "execution_count": null,
      "outputs": [
        {
          "output_type": "execute_result",
          "data": {
            "text/plain": [
              "array([[3, 4],\n",
              "       [2, 2]])"
            ]
          },
          "metadata": {
            "tags": []
          },
          "execution_count": 41
        }
      ]
    },
    {
      "cell_type": "markdown",
      "metadata": {
        "id": "_oK1tJptGAER"
      },
      "source": [
        "In matrix dot products there are additional rules compared with vector dot products. Since vector dot products were just in one dimension, there are fewer restrictions. Since now we are dealing with Rank 2 vectors we need to consider some rules:\r\n",
        "\r\n",
        "**Rule 1: The inner dimensions of the two matrices in question must be the same.**\r\n",
        "\r\n",
        "So given a matrix $A$ with a shape of $(a,b)$ where $a$ and $b$ are any integers. If we want to do a dot product between $A$ and another matrix $B$, then matrix $B$ should have a shape of $(b,c)$ where $b$ and $c$ are any integers. So for given the following matrices:\r\n",
        "\r\n",
        "$$A = \\begin{bmatrix}2&4\\\\5&-2\\\\0&1\\end{bmatrix}, B = \\begin{bmatrix}1&1\\\\3&3\\\\-1&-2\\end{bmatrix}, C = \\begin{bmatrix}0&1&1\\\\1&1&2\\end{bmatrix}$$\r\n",
        "\r\n",
        "So in this case $A$ has a shape of $(3,2)$, $B$ has a shape of $(3,2)$ and $C$ has a shape of $(2,3)$. So the only matrix pairs that is eligible to perform dot product is matrices $A \\cdot C$, or $B \\cdot C$.  "
      ]
    },
    {
      "cell_type": "code",
      "metadata": {
        "id": "JxDIYsPcGF3p",
        "colab": {
          "base_uri": "https://localhost:8080/"
        },
        "outputId": "f85888a0-7aa5-4705-de6c-e461fcd48bed"
      },
      "source": [
        "A = np.array([\r\n",
        "              [2,4],\r\n",
        "              [5,-2],\r\n",
        "              [0,1]\r\n",
        "])\r\n",
        "B = np.array([\r\n",
        "              [1,1],\r\n",
        "              [3,3],\r\n",
        "              [-1,-2]\r\n",
        "])\r\n",
        "\r\n",
        "C = np.array([\r\n",
        "              [0,1,1],\r\n",
        "              [1,1,2]\r\n",
        "])\r\n",
        "\r\n",
        "print(A@C)\r\n",
        "print(B@C)"
      ],
      "execution_count": null,
      "outputs": [
        {
          "output_type": "stream",
          "text": [
            "[[ 4  6 10]\n",
            " [-2  3  1]\n",
            " [ 1  1  2]]\n",
            "[[ 1  2  3]\n",
            " [ 3  6  9]\n",
            " [-2 -3 -5]]\n"
          ],
          "name": "stdout"
        }
      ]
    },
    {
      "cell_type": "markdown",
      "metadata": {
        "id": "MfSjkrITGGOZ"
      },
      "source": [
        "**Rule 2: Dot Product has special properties**\r\n",
        "\r\n",
        "Dot products are prevalent in matrix algebra, this implies that it has several unique properties and it should be considered when formulation solutions:\r\n",
        " 1. $A \\cdot B \\neq B \\cdot A$\r\n",
        " 2. $A \\cdot (B \\cdot C) = (A \\cdot B) \\cdot C$\r\n",
        " 3. $A\\cdot(B+C) = A\\cdot B + A\\cdot C$\r\n",
        " 4. $(B+C)\\cdot A = B\\cdot A + C\\cdot A$\r\n",
        " 5. $A\\cdot I = A$\r\n",
        " 6. $A\\cdot \\emptyset = \\emptyset$ "
      ]
    },
    {
      "cell_type": "code",
      "metadata": {
        "id": "g4dRHPVOGlig",
        "colab": {
          "base_uri": "https://localhost:8080/",
          "height": 163
        },
        "outputId": "cb6cb1b6-d3e5-42b4-f1a2-56e1bc3b54c4"
      },
      "source": [
        "A@B == B@A"
      ],
      "execution_count": null,
      "outputs": [
        {
          "output_type": "error",
          "ename": "ValueError",
          "evalue": "ignored",
          "traceback": [
            "\u001b[0;31m---------------------------------------------------------------------------\u001b[0m",
            "\u001b[0;31mValueError\u001b[0m                                Traceback (most recent call last)",
            "\u001b[0;32m<ipython-input-48-c5afa0775c40>\u001b[0m in \u001b[0;36m<module>\u001b[0;34m()\u001b[0m\n\u001b[0;32m----> 1\u001b[0;31m \u001b[0mA\u001b[0m\u001b[0;34m@\u001b[0m\u001b[0mB\u001b[0m \u001b[0;34m==\u001b[0m \u001b[0mB\u001b[0m\u001b[0;34m@\u001b[0m\u001b[0mA\u001b[0m\u001b[0;34m\u001b[0m\u001b[0;34m\u001b[0m\u001b[0m\n\u001b[0m",
            "\u001b[0;31mValueError\u001b[0m: matmul: Input operand 1 has a mismatch in its core dimension 0, with gufunc signature (n?,k),(k,m?)->(n?,m?) (size 3 is different from 2)"
          ]
        }
      ]
    },
    {
      "cell_type": "code",
      "metadata": {
        "colab": {
          "base_uri": "https://localhost:8080/"
        },
        "id": "M0wmgCK4BYDr",
        "outputId": "da633f15-4527-4617-f124-c29d8203952a"
      },
      "source": [
        "(A@(C@B) == (A@C)@B).all()"
      ],
      "execution_count": null,
      "outputs": [
        {
          "output_type": "execute_result",
          "data": {
            "text/plain": [
              "True"
            ]
          },
          "metadata": {
            "tags": []
          },
          "execution_count": 53
        }
      ]
    },
    {
      "cell_type": "code",
      "metadata": {
        "colab": {
          "base_uri": "https://localhost:8080/"
        },
        "id": "tsf2UT6FCDtO",
        "outputId": "d47aec55-adc5-4955-fc71-7a2d2ab1c4b6"
      },
      "source": [
        "Z  = A@C\r\n",
        "I = np.eye(3)\r\n",
        "n = np.zeros(Z.shape)\r\n",
        "print(Z@n)"
      ],
      "execution_count": null,
      "outputs": [
        {
          "output_type": "stream",
          "text": [
            "[[0. 0. 0.]\n",
            " [0. 0. 0.]\n",
            " [0. 0. 0.]]\n"
          ],
          "name": "stdout"
        }
      ]
    },
    {
      "cell_type": "markdown",
      "metadata": {
        "id": "IMysYX4QGiuQ"
      },
      "source": [
        "## Determinants\r\n",
        "A determinant is a scalar value derived from a square matrix. The determinant is a fundamental and important value used in matrix algebra. \r\n",
        "\r\n",
        "The determinant of some matrix $A$ is denoted as $det(A)$ or $|A|$. So let's say $A$ is represented as:\r\n",
        "$$A = \\begin{bmatrix}a_{(0,0)}&a_{(0,1)}\\\\a_{(1,0)}&a_{(1,1)}\\end{bmatrix}$$\r\n",
        "We can compute for the determinant as:\r\n",
        "$$|A| = a_{(0,0)}*a_{(1,1)} - a_{(1,0)}*a_{(0,1)}$$\r\n",
        "So if we have $A$ as:\r\n",
        "$$A = \\begin{bmatrix}1&4\\\\0&3\\end{bmatrix}, |A| = 3$$\r\n",
        "\r\n",
        "But you might wonder how about square matrices beyond the shape $(2,2)$? We can approach this problem by using several methods such as co-factor expansion and the minors method. This can be taught in the lecture of the laboratory but we can achieve the strenuous computation of high-dimensional matrices programmatically using Python. We can achieve this by using [`np.linalg.det`](https://numpy.org/doc/stable/reference/generated/numpy.linalg.det.html)."
      ]
    },
    {
      "cell_type": "code",
      "metadata": {
        "id": "Sj5X1o_mGIRg",
        "colab": {
          "base_uri": "https://localhost:8080/"
        },
        "outputId": "c585103a-a5b3-45d9-b5f6-2e0b9c533f17"
      },
      "source": [
        "A = np.array([\r\n",
        "              [1,4],\r\n",
        "              [0,3]\r\n",
        "])\r\n",
        "Det = np.linalg.det(A)\r\n",
        "Det"
      ],
      "execution_count": null,
      "outputs": [
        {
          "output_type": "execute_result",
          "data": {
            "text/plain": [
              "3.0000000000000004"
            ]
          },
          "metadata": {
            "tags": []
          },
          "execution_count": 57
        }
      ]
    },
    {
      "cell_type": "markdown",
      "metadata": {
        "id": "7j3EPb9ZGsdI"
      },
      "source": [
        "## 2.6 Matrix Inverse\r\n",
        "\r\n",
        "The inverse of a matrix is another fundamental operation in matrix algebra. Determining the inverse of a matrix let us determine if its solvability and its characteristic as a system of linear equation. Another use of the inverse matrix is solving the problem of divisibility between matrices. Although element-wise division exist but dividing the entire concept of matrices does not exists. Inverse matrices provide a related operation that could have the same concept of \"dividing\" matrices.\r\n",
        "\r\n",
        "Now to determine the inverse of a matrix we need to perform several steps. So let's say we have a matrix $M$:\r\n",
        "$$M = \\begin{bmatrix}1&7\\\\-3&5\\end{bmatrix}$$\r\n",
        "First, we need to get the determinant of $M$.\r\n",
        "$$|M| = (1)(5)-(-3)(7) = 26$$\r\n",
        "Next, we need to reform the matrix into the inverse form:\r\n",
        "$$M^{-1} = \\frac{1}{|M|} \\begin{bmatrix} m_{(1,1)} & -m_{(0,1)} \\\\ -m_{(1,0)} & m_{(0,0)}\\end{bmatrix}$$\r\n",
        "So that will be:\r\n",
        "$$M^{-1} = \\frac{1}{26} \\begin{bmatrix} 5 & -7 \\\\ 3 & 1\\end{bmatrix} = \\begin{bmatrix} \\frac{5}{26} & \\frac{-7}{26} \\\\ \\frac{3}{26} & \\frac{1}{26}\\end{bmatrix}$$\r\n",
        "For higher-dimension matrices, you might need to use co-factors, minors, adjugates, and other reduction techniques. To solve this programmatically we can use [`np.linalg.inv`](https://numpy.org/doc/stable/reference/generated/numpy.linalg.inv.html).\r\n",
        "\r\n",
        "To validate the wether if the matric that you have solved is really the inverse, we follow this dot product property for a matrix $M$:\r\n",
        "$$M\\cdot M^{-1} = I$$"
      ]
    },
    {
      "cell_type": "code",
      "metadata": {
        "id": "no8zVYLmGuJ9",
        "colab": {
          "base_uri": "https://localhost:8080/"
        },
        "outputId": "59b2eff5-802b-46db-b605-e4e59d0a0ce3"
      },
      "source": [
        "M = np.array([\r\n",
        "                [1,7],\r\n",
        "                [-3,5]\r\n",
        "])\r\n",
        "\r\n",
        "Inv = np.linalg.inv(M)\r\n",
        "Inv"
      ],
      "execution_count": null,
      "outputs": [
        {
          "output_type": "execute_result",
          "data": {
            "text/plain": [
              "array([[ 0.19230769, -0.26923077],\n",
              "       [ 0.11538462,  0.03846154]])"
            ]
          },
          "metadata": {
            "tags": []
          },
          "execution_count": 59
        }
      ]
    },
    {
      "cell_type": "markdown",
      "metadata": {
        "id": "hmNLmGPvGuig"
      },
      "source": [
        "# System of Linear Equations\r\n",
        "\r\n",
        "Solving linear equations is one of the fundamental skills of higher engineering mathematics. Aside from solving them, we must be skilled enough to spot them in the wild as well.\r\n",
        "\r\n",
        "Given an equation:\r\n",
        "$$\r\n",
        "B = \\left\\{\r\n",
        "    \\begin{array}\\\\\r\n",
        "        x+y+z=1\\\\ \r\n",
        "        3x -2y -z=4 \\\\\r\n",
        "        -x + 4y +2z=-3\r\n",
        "    \\end{array}\r\n",
        "\\right. $$\r\n",
        "\r\n",
        "We can represent it in matrix form considering the linear combination of the equations. We can also think of its dot product form:\r\n",
        "$$\r\n",
        "\\begin{bmatrix}1&1&1\\\\3&-2&-1\\\\-1&4&2\\end{bmatrix} \\cdot \\begin{bmatrix}x\\\\ y\\\\ z\\end{bmatrix} = \\begin{bmatrix}1\\\\4\\\\-3\\end{bmatrix}\r\n",
        "$$\r\n",
        "We can make a general form for this equation by putting our matrices and vectors as variables. So let's say that the matrix $\\begin{bmatrix}1&1&1\\\\3&-2&-1\\\\-1&4&2\\end{bmatrix}$ is $X$ and $\\begin{bmatrix}x\\\\ y\\\\ z\\end{bmatrix} = \\begin{bmatrix}x\\\\y\\\\z\\end{bmatrix}$ is the vector $r$ then the answer $\\begin{bmatrix}1\\\\4\\\\-3\\end{bmatrix}$ as $Y$. So we'll have:\r\n",
        "$$\r\n",
        "X r = Y\r\n",
        "$$\r\n",
        "Our goal is to solve for $r$ so we can solve it algebraically by multiplying both sides with the inverse of $X$, so we'll get:\r\n",
        "$$\r\n",
        "X^{-1}X r = X^{-1}Y\\\\\r\n",
        "Ir = X^{-1}Y\\\\\r\n",
        "r = X^{-1}Y\r\n",
        "$$\r\n",
        "We'll take $r = X^{-1}Y$ as the $\\textbf{vectorized}$ equation as our formula in solving for the vector $r$ or simply solving for $x,y,$and$z$. We can then code that as:"
      ]
    },
    {
      "cell_type": "code",
      "metadata": {
        "id": "GzoKTOWMG8Hh",
        "colab": {
          "base_uri": "https://localhost:8080/"
        },
        "outputId": "6b93448d-6eca-4fc5-898d-b091b6936c4c"
      },
      "source": [
        "A = np.array([\r\n",
        "              [1,1,1],\r\n",
        "              [3,-2,-1],\r\n",
        "              [-1,4,2]\r\n",
        "])\r\n",
        "\r\n",
        "B = np.array([1,4,-3])\r\n",
        "\r\n",
        "X2 = np.linalg.solve(A,B)\r\n",
        "print(X2)"
      ],
      "execution_count": null,
      "outputs": [
        {
          "output_type": "stream",
          "text": [
            "[ 1. -1.  1.]\n"
          ],
          "name": "stdout"
        }
      ]
    },
    {
      "cell_type": "markdown",
      "metadata": {
        "id": "h9cOTHv2IpS4"
      },
      "source": [
        "### Visualizing Vectors\r\n",
        "\r\n",
        "So far I know you have been experiencing mathematical exhaustion due to all these mathematical expressions. Allow me to show you a tad more interesting side of Linear Algebra.\r\n",
        "\r\n",
        "Undoubtedly, one of the most interesting and frustrating parts of Data Analysts and Data Scientist is visualizing data. Although we will be visualizing more on matrices and tensors. So, bear with me here and I'll try to spark a bit of interest in you guys. "
      ]
    },
    {
      "cell_type": "code",
      "metadata": {
        "id": "Q2hEQblFIsAo"
      },
      "source": [
        "### If you haven't installed it use:\r\n",
        "#!pip install matplotlib\r\n",
        "\r\n",
        "import matplotlib.pyplot as plt"
      ],
      "execution_count": null,
      "outputs": []
    },
    {
      "cell_type": "markdown",
      "metadata": {
        "id": "yTjmJzzfItuQ"
      },
      "source": [
        "#### <i>2D Cartersian Plots</i>\r\n",
        "Check out:\r\n",
        "* [`matplotlib.pyplot.xlim`](https://matplotlib.org/3.3.3/api/_as_gen/matplotlib.pyplot.xlim.html)\r\n",
        "* [`matplotlib.pyplot.ylim`](https://matplotlib.org/3.3.3/api/_as_gen/matplotlib.pyplot.ylim.html)\r\n",
        "* [`matplotlib.pyplot.quiver`](https://matplotlib.org/3.3.3/api/_as_gen/matplotlib.pyplot.quiver.html)\r\n",
        "* [`matplotlib.pyplot.grid`](https://matplotlib.org/3.3.3/api/_as_gen/matplotlib.pyplot.grid.html)\r\n",
        "* [`matplotlib.pyplot.show`](https://matplotlib.org/3.3.3/api/_as_gen/matplotlib.pyplot.show.html)"
      ]
    },
    {
      "cell_type": "code",
      "metadata": {
        "id": "hg52Q9AKIvbI",
        "colab": {
          "base_uri": "https://localhost:8080/",
          "height": 286
        },
        "outputId": "40b5c199-1ffd-4f34-bf88-affa46e7dcac"
      },
      "source": [
        "# plotting in 2D \r\n",
        "A = np.array([4, 3])          \r\n",
        "B = np.array([2, -5])         # assigning vector\r\n",
        "\r\n",
        "plt.xlim(-15, 15)            # setting the limit in x\r\n",
        "plt.ylim(-15, 15)            # setting the limit in y\r\n",
        "plt.quiver(0,0, A[0], A[1], angles='xy', scale_units='xy',scale=1, color='red') # Red --> A  \r\n",
        "plt.quiver(A[0], A[1], B[0], B[1], angles='xy', scale_units='xy',scale=1, color='b') # Blue --> B\r\n",
        "R = A + B\r\n",
        "plt.quiver(0,0, R[0], R[1], angles='xy', scale_units='xy',scale=1, color='yellow')\r\n",
        "print(R)\r\n",
        "\r\n",
        "plt.grid()\r\n",
        "plt.show()\r\n"
      ],
      "execution_count": null,
      "outputs": [
        {
          "output_type": "stream",
          "text": [
            "[ 6 -2]\n"
          ],
          "name": "stdout"
        },
        {
          "output_type": "display_data",
          "data": {
            "image/png": "[encoded data removed]",
            "text/plain": [
              "<Figure size 432x288 with 1 Axes>"
            ]
          },
          "metadata": {
            "tags": [],
            "needs_background": "light"
          }
        }
      ]
    },
    {
      "cell_type": "markdown",
      "metadata": {
        "id": "06hJJe31I85Y"
      },
      "source": [
        "## Practice 1: Modulus of a Vector\r\n",
        "The modulus of a vector or the magnitude of a vector can be determined using the Pythagorean theorem. Given the vector $A$ and its scalars denoted as $a_n$ where $n$ is the index of the scalar. So if we have:\r\n",
        "$$A = \\begin{bmatrix}1\\\\2\\end{bmatrix}$$\r\n",
        "We can compute the magnitude as:\r\n",
        "$$||A|| = \\sqrt{a_1^2 + a_2^2} = \\sqrt{1^2 + 2^2} = \\sqrt{5}$$\r\n",
        "So if we have a matrix with more parameters such as:\r\n",
        "$$B=\\begin{bmatrix}2\\\\5\\\\-1\\\\0\\end{bmatrix}$$\r\n",
        "We can generalize the Pythagorean theorem to compute for the magnitude as:\r\n",
        "$$||B|| = \\sqrt{b_1^2 + b_2^2 + b_3^2 + ... +b_n^2} = \\sqrt{\\sum_{n=1}^{N}b_n^2}$$\r\n",
        "And this equation is now called a Euclidian distance or the Euclidean Norm. "
      ]
    },
    {
      "cell_type": "code",
      "metadata": {
        "id": "evLYDA2dI9XQ",
        "colab": {
          "base_uri": "https://localhost:8080/"
        },
        "outputId": "daa9c01c-6ee6-42c7-f0bb-a9b85e2824c7"
      },
      "source": [
        "\r\n",
        "def norm1(vector1):\r\n",
        "  e_norm = np.linalg.norm(A)\r\n",
        "  return e_norm\r\n",
        "\r\n",
        "A = np.array([1,2])\r\n",
        "\r\n",
        "\r\n",
        "Distance_norm1 = norm1(A)\r\n",
        "\r\n",
        "\r\n",
        "def norm2(vectorB):\r\n",
        "  e_norm = np.linalg.norm(B)\r\n",
        "  return e_norm\r\n",
        "\r\n",
        "B = np.array([2,5,-1,0])\r\n",
        "Distance_norm2 = norm2(B)\r\n",
        "\r\n",
        "print('the euclidian distance are : ',Distance_norm1,Distance_norm2)\r\n",
        "\r\n",
        "\r\n",
        "\r\n",
        "\r\n",
        "\r\n"
      ],
      "execution_count": null,
      "outputs": [
        {
          "output_type": "stream",
          "text": [
            "the euclidian distance are :  2.23606797749979 5.477225575051661\n"
          ],
          "name": "stdout"
        }
      ]
    },
    {
      "cell_type": "code",
      "metadata": {
        "colab": {
          "base_uri": "https://localhost:8080/"
        },
        "id": "jM2AbkQ5-OYT",
        "outputId": "eabff655-2250-40f3-8b28-c8b25336eecc"
      },
      "source": [
        "\r\n",
        "def norm1(vector1):\r\n",
        "  e_norm = sqrt(X[0]**2 + X[1]**2)\r\n",
        "  return e_norm\r\n",
        "\r\n",
        "X = np.array([1,2])\r\n",
        "\r\n",
        "vec1 = norm1(X)\r\n",
        "\r\n",
        "\r\n",
        "def norm2(vector2):\r\n",
        "  e_norm = sqrt(Y[0]**2 + Y[1]**2 + Y[2]**2 + Y[3]**2)\r\n",
        "  return e_norm\r\n",
        "\r\n",
        "Y = np.array([2,5,-1,0])\r\n",
        "\r\n",
        "vec2 = norm2(Y)\r\n",
        "\r\n",
        "print('the euclidian norm are ',vec1,',',vec2)"
      ],
      "execution_count": null,
      "outputs": [
        {
          "output_type": "stream",
          "text": [
            "the euclidian norm are  2.23606797749979 , 5.477225575051661\n"
          ],
          "name": "stdout"
        }
      ]
    },
    {
      "cell_type": "markdown",
      "metadata": {
        "id": "BrzGwH5cI-Aw"
      },
      "source": [
        "## Practice 2: The Sigmoid\r\n",
        "The sigmoid function is one of the popular Activation Functions which we will discuss later on. The sigmoid is a bounded, differentiable, real function in which its range would be any value from 0 to 1. It is widely used in binary classifications.\r\n",
        "![image](https://upload.wikimedia.org/wikipedia/commons/thumb/8/88/Logistic-curve.svg/1200px-Logistic-curve.svg.png)\r\n",
        "If we were to check the equation characterizing this curve in textbooks or journals it would be:\r\n",
        "$$sig(x)=\\frac{1}{1+e^{-x}}$$\r\n",
        "or\r\n",
        "$$\\sigma(x)=\\frac{1}{1+e^{-x}}$$\r\n",
        "So let's try to translate this in NumPy. You might want to use [`numpy.exp`](https://numpy.org/doc/stable/reference/generated/numpy.exp.html) for this function. <br>\r\n",
        "If you want to read more about the sigmoid function click [here](https://medium.com/@himanshuxd/activation-functions-sigmoid-relu-leaky-relu-and-softmax-basics-for-neural-networks-and-deep-8d9c70eed91e)."
      ]
    },
    {
      "cell_type": "code",
      "metadata": {
        "id": "4UTUaj1pJAH3",
        "colab": {
          "base_uri": "https://localhost:8080/",
          "height": 279
        },
        "outputId": "44302354-cedd-4f87-ce3b-13da31b933d1"
      },
      "source": [
        "\r\n",
        "x = np.linspace(-6, 6) \r\n",
        "z = 1/(1 + np.exp(-x)) \r\n",
        "  \r\n",
        "plt.plot(x, z) \r\n",
        "plt.xlabel(\"x\") \r\n",
        "plt.ylabel(\"Sigmoid(X)\") \r\n",
        "  \r\n",
        "plt.grid()\r\n",
        "plt.show() \r\n",
        "\r\n"
      ],
      "execution_count": null,
      "outputs": [
        {
          "output_type": "display_data",
          "data": {
            "image/png": "[encoded data removed]",
            "text/plain": [
              "<Figure size 432x288 with 1 Axes>"
            ]
          },
          "metadata": {
            "tags": [],
            "needs_background": "light"
          }
        }
      ]
    }
  ]
}